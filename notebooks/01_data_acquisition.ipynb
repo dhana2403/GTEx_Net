{
 "cells": [
  {
   "cell_type": "code",
   "execution_count": null,
   "metadata": {},
   "outputs": [],
   "source": [
    "#######################Data acquisition#############################\n",
    "\n",
    "import os\n",
    "import requests \n",
    "import subprocess \n",
    "\n",
    "print(os.getcwd())\n",
    "\n",
    "#create directories\n",
    "os.makedirs(\"data/raw\", exist_ok = True)\n",
    "os.makedirs(\"data/metadata\", exist_ok = True)\n",
    "os.makedirs(\"data/processed\", exist_ok= True)\n"
   ]
  },
  {
   "cell_type": "code",
   "execution_count": 4,
   "metadata": {},
   "outputs": [],
   "source": [
    "#Download URLs\n",
    "\n",
    "urls = [\n",
    "    \"https://storage.googleapis.com/adult-gtex/annotations/v8/metadata-files/GTEx_Analysis_v8_Annotations_SampleAttributesDD.xlsx\",\n",
    "    \"https://storage.googleapis.com/adult-gtex/annotations/v8/metadata-files/GTEx_Analysis_v8_Annotations_SubjectPhenotypesDD.xlsx\",\n",
    "    \"https://storage.googleapis.com/adult-gtex/annotations/v8/metadata-files/GTEx_Analysis_v8_Annotations_SampleAttributesDS.txt\",\n",
    "    \"https://storage.googleapis.com/adult-gtex/annotations/v8/metadata-files/GTEx_Analysis_v8_Annotations_SubjectPhenotypesDS.txt\",\n",
    "    \"https://storage.googleapis.com/adult-gtex/bulk-gex/v8/rna-seq/GTEx_Analysis_2017-06-05_v8_RNASeQCv1.1.9_gene_reads.gct.gz\"\n",
    "    ]\n",
    "\n",
    "for url in urls:\n",
    "    response = requests.get(url)\n",
    "    filename = os.path.basename(url)\n",
    "\n",
    "    if \"metadata\" in url:\n",
    "        save_dir = \"data/metadata\"\n",
    "    else:\n",
    "        save_dir = \"data/raw\" \n",
    "\n",
    "    file_path = os.path.join(save_dir, filename)\n",
    "\n",
    "    with open(file_path, 'wb') as f:\n",
    "        f.write(response.content)\n"
   ]
  },
  {
   "cell_type": "code",
   "execution_count": 6,
   "metadata": {},
   "outputs": [],
   "source": [
    "#Unzip command\n",
    "\n",
    "if filename.endswith(\".gz\"):\n",
    "\n",
    "    unzip_command = f\"gunzip {file_path}\"\n",
    "\n",
    "    subprocess.run(unzip_command, shell=True, check=True)"
   ]
  }
 ],
 "metadata": {
  "kernelspec": {
   "display_name": "r-tensorflow",
   "language": "python",
   "name": "python3"
  },
  "language_info": {
   "codemirror_mode": {
    "name": "ipython",
    "version": 3
   },
   "file_extension": ".py",
   "mimetype": "text/x-python",
   "name": "python",
   "nbconvert_exporter": "python",
   "pygments_lexer": "ipython3",
   "version": "3.12.5"
  }
 },
 "nbformat": 4,
 "nbformat_minor": 2
}
