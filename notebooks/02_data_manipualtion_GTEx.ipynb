{
 "cells": [
  {
   "cell_type": "code",
   "execution_count": null,
   "metadata": {},
   "outputs": [],
   "source": [
    "######################### DATA MANIPULATION ###############################\n",
    "\n",
    "##############################ATTRIBUTES####################################\n",
    "\n",
    "import pandas as pd \n",
    "\n",
    "\n",
    "att_des = (\n",
    "           pd.read_excel('/Users/dhanalakshmijothi/Desktop/python/GTEx/data/metadata/GTEx_Analysis_v8_Annotations_SampleAttributesDD.xlsx')\n",
    "           .fillna(\"\")\n",
    ")\n",
    "\n",
    "att_val = (\n",
    "           pd.read_csv('/Users/dhanalakshmijothi/Desktop/python/GTEx/data/metadata/GTEx_Analysis_v8_Annotations_SampleAttributesDS.txt',  sep='\\t')\n",
    "           .fillna(\"\")\n",
    "           .rename(columns={'SAMPID':'samp_id','SMRIN':'rin_val', 'SMTS': 'major_tissue', 'SMTSD': 'minor_tissue', 'SMNABTCH':'batch_iso', 'SMGEBTCH':'batch_exp', 'SMTSISCH': 'ischemic_time'})\n",
    "           .assign(minor_tissue = lambda df: df['minor_tissue'].str.replace(' - ', '-', regex=False),\n",
    "                   subj_id = lambda df: df['samp_id'].str.split('-', n=2).str[:2].apply('-'.join))\n",
    ")\n",
    "\n",
    "att_val_new = att_val[['samp_id','subj_id','rin_val','major_tissue','minor_tissue','batch_iso','batch_exp', 'ischemic_time']]\n",
    "\n",
    "att_des, att_val, att_val_new"
   ]
  },
  {
   "cell_type": "code",
   "execution_count": 2,
   "metadata": {},
   "outputs": [],
   "source": [
    "\n",
    "##############################PHENOTYPES####################################\n",
    "\n",
    "phe_des = (\n",
    "    pd.read_excel('/Users/dhanalakshmijothi/Desktop/python/GTEx/data/metadata/GTEx_Analysis_v8_Annotations_SubjectPhenotypesDD.xlsx')\n",
    "    .fillna(\"\")\n",
    ")\n",
    "\n",
    "phe_val = (\n",
    "    pd.read_csv('/Users/dhanalakshmijothi/Desktop/python/GTEx/data/metadata/GTEx_Analysis_v8_Annotations_SubjectPhenotypesDS.txt',  sep='\\t')\n",
    "    .fillna(\"\")  \n",
    "    .rename(columns={'SUBJID': 'subj_id', 'SEX': 'sex', 'AGE': 'age', 'DTHHRDY': 'Death_category'})\n",
    "    .assign(sex = lambda df: df['sex'].replace({1: \"male\", 2: \"female\"}),\n",
    "            Death_category = lambda df: df['Death_category'].replace({0: \"Ventilator\", 1: \"Fast & violent\", 2: \"Fast & natural\", 3: \"Intermediate\", 4: \"slow death\"}))\n",
    ")\n"
   ]
  },
  {
   "cell_type": "code",
   "execution_count": 3,
   "metadata": {},
   "outputs": [],
   "source": [
    "##########################JOIN ATTRIBUTES AND PHENOTYPES##########################\n",
    "\n",
    "attphe = (att_val_new\n",
    "          .merge(phe_val, on='subj_id', how='inner')\n",
    "          .drop_duplicates(subset='samp_id', keep='first')\n",
    "           # .loc[lambda df: df['minor_tissue'].isin(['Brain-Cortex', 'Lung', 'Liver'])]\n",
    "          )\n"
   ]
  },
  {
   "cell_type": "code",
   "execution_count": 4,
   "metadata": {},
   "outputs": [
    {
     "name": "stdout",
     "output_type": "stream",
     "text": [
      "Files saved in: data/processed/expression/readcounts_all/ and data/processed/\n"
     ]
    }
   ],
   "source": [
    "###################RAW DATA################\n",
    "\n",
    "import pandas as pd\n",
    "import re\n",
    "import os\n",
    "import pickle\n",
    "\n",
    "# Load the gene expression data (adjust file path accordingly)\n",
    "raw_dat = pd.read_csv('/Users/dhanalakshmijothi/Desktop/python/GTEx/data/raw/GTEx_Analysis_2017-06-05_v8_RNASeQCv1.1.9_gene_reads.gct', sep='\\t', skiprows=2, header=0)\n",
    "\n",
    "# Extract sample IDs from metadata (attphe should be defined beforehand)\n",
    "samp_ids = attphe['samp_id'].to_list()\n",
    "\n",
    "# Define columns to keep (including 'Name' and columns that match sample IDs)\n",
    "columns_to_keep = ['Name'] + [col for col in raw_dat.columns if col in samp_ids]\n",
    "\n",
    "# Reload raw data with the selected columns\n",
    "raw_dat = pd.read_csv('/Users/dhanalakshmijothi/Desktop/python/GTEx/data/raw/GTEx_Analysis_2017-06-05_v8_RNASeQCv1.1.9_gene_reads.gct', sep='\\t', skiprows=2, header=0, usecols=columns_to_keep)\n",
    "\n",
    "# Define genes of interest\n",
    "genes_of_interest = ['ENSG00000198793', 'ENSG00000118689', 'ENSG00000096717', 'ENSG00000142082', 'ENSG00000133818', 'ENSG00000121691', 'ENSG00000017427', \n",
    "                     'ENSG00000140443', 'ENSG00000141510', 'ENSG00000077463', 'ENSG00000130203', 'ENSG00000126458', 'ENSG00000142168', 'ENSG00000133116']\n",
    "\n",
    "# Clean gene names (remove version numbers) and filter for genes of interest\n",
    "raw_dat = raw_dat.fillna(\"\").dropna()\n",
    "raw_dat['Name'] = raw_dat['Name'].str.replace(r\"\\.\\d+$\", \"\", regex=True)\n",
    "raw_dat = raw_dat[raw_dat['Name'].isin(genes_of_interest)]\n",
    "\n",
    "# Group samples by tissue (using metadata `attphe`)\n",
    "sample_meta = attphe.groupby(\"minor_tissue\")[\"samp_id\"].apply(list).to_dict()\n",
    "\n",
    "# Filter the raw data columns based on tissue samples\n",
    "sample_raw = list(raw_dat.columns)\n",
    "sample_meta = {tissue: list(set(samps) & set(sample_raw)) for tissue, samps in sample_meta.items()}\n",
    "\n",
    "# Filter the data for each tissue group (ensure each tissue group has at least 2 samples)\n",
    "dat_filtered_tissues = {\n",
    "    tissue: raw_dat[sample].dropna(axis=1) \n",
    "    for tissue, sample in sample_meta.items() \n",
    "    if len(sample) > 1\n",
    "}\n",
    "\n",
    "# Clean the row names \n",
    "dat_filtered_tissues = {\n",
    "    tissue: df.rename(columns=lambda x: re.split(r'[()]', x.replace(' ', ''))[0]) \n",
    "    for tissue, df in dat_filtered_tissues.items()\n",
    "}\n",
    "\n",
    "# Create directory if it does not exist\n",
    "save_dir = \"data/processed/expression/readcounts_all/\"\n",
    "save_dir1 = \"data/processed/\"\n",
    "os.makedirs(save_dir, exist_ok=True)\n",
    "os.makedirs(save_dir1, exist_ok=True)\n",
    "\n",
    "# Save the filtered data (columns by tissue)\n",
    "for tissue, df in dat_filtered_tissues.items():\n",
    "    pickle.dump(df, open(os.path.join(save_dir, f\"{tissue}.pkl\"), \"wb\"))\n",
    "\n",
    "# Save metadata (attphe)\n",
    "pickle.dump(attphe, open(os.path.join(save_dir1, \"attphe.pkl\"), \"wb\"))\n",
    "\n",
    "print(f\"Files saved in: {save_dir} and {save_dir1}\")\n"
   ]
  }
 ],
 "metadata": {
  "kernelspec": {
   "display_name": "r-tensorflow",
   "language": "python",
   "name": "python3"
  },
  "language_info": {
   "codemirror_mode": {
    "name": "ipython",
    "version": 3
   },
   "file_extension": ".py",
   "mimetype": "text/x-python",
   "name": "python",
   "nbconvert_exporter": "python",
   "pygments_lexer": "ipython3",
   "version": "3.12.5"
  }
 },
 "nbformat": 4,
 "nbformat_minor": 2
}
